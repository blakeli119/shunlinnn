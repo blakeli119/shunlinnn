{
 "cells": [
  {
   "cell_type": "code",
   "execution_count": 4,
   "metadata": {},
   "outputs": [],
   "source": [
    "def quicksort(a):\n",
    "    if len(a)<2:         #若數列中數字長度不到2個則不用跑下面程式碼\n",
    "        return a\n",
    "    else:\n",
    "        pivot=a[0]      #數列的第一個數字作為基準點pivot\n",
    "        less=[i for i in a[1:] if i<pivot]\n",
    "                            #小於pivot的放置less數列之中，a[1:]是把a從1（第二個位置的數字）開始往後找，因為0為pivot\n",
    "        more=[i for i in a[1:]if i>=pivot]\n",
    "                           #大於及等於的放置more數列中\n",
    "        return quicksort(less)+[pivot]+quicksort(more)\n",
    "                           #將新的數列重新整理，quicksort(less)和quicksort(more)丟回if len(a)<2:，若有兩個以上的數字，再重新分類\n",
    "                           #直到所有list中都只剩下一個數，分不出『新的數列』為止，便會停止分類"
   ]
  },
  {
   "cell_type": "code",
   "execution_count": 5,
   "metadata": {},
   "outputs": [],
   "source": [
    "list=[4,8,3,0,11,8,16,1,6,9]"
   ]
  },
  {
   "cell_type": "code",
   "execution_count": 6,
   "metadata": {},
   "outputs": [
    {
     "data": {
      "text/plain": [
       "[0, 1, 3, 4, 6, 8, 8, 9, 11, 16]"
      ]
     },
     "execution_count": 6,
     "metadata": {},
     "output_type": "execute_result"
    }
   ],
   "source": [
    "quicksort(list)"
   ]
  },
  {
   "cell_type": "code",
   "execution_count": null,
   "metadata": {},
   "outputs": [],
   "source": []
  }
 ],
 "metadata": {
  "kernelspec": {
   "display_name": "Python 3",
   "language": "python",
   "name": "python3"
  },
  "language_info": {
   "codemirror_mode": {
    "name": "ipython",
    "version": 3
   },
   "file_extension": ".py",
   "mimetype": "text/x-python",
   "name": "python",
   "nbconvert_exporter": "python",
   "pygments_lexer": "ipython3",
   "version": "3.7.1"
  }
 },
 "nbformat": 4,
 "nbformat_minor": 2
}
